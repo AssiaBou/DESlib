{
 "cells": [
  {
   "cell_type": "markdown",
   "metadata": {},
   "source": [
    "# Using the dynamic frienemy pruning (DFP)\n",
    "\n",
    "In this example we show how to apply the dynamic frienemy pruning (DFP) to different dynamic selection techniques.\n",
    "\n",
    "The DFP method is an online pruning model which analyzes the region of competence to know if it is composed of samples\n",
    "from different classes (indecision region). Then, it remove the base classifiers that do not correctly classifies\n",
    "at least a pair of samples coming from different classes (i.e., the base classifiers that do not cross the local\n",
    "region.\n",
    "\n",
    "The DFP is shown to significantly improve the performance of several dynamic selection algorithms when dealing\n",
    "with heavily imbalanced problems, as it avoids the classifiers that are biased towards the majority class in predicting\n",
    "the label for the query."
   ]
  },
  {
   "cell_type": "markdown",
   "metadata": {},
   "source": [
    "## Importing the required libraries"
   ]
  },
  {
   "cell_type": "code",
   "execution_count": null,
   "metadata": {
    "collapsed": true
   },
   "outputs": [],
   "source": [
    "import numpy as np\n",
    "from sklearn.datasets import make_classification\n",
    "from sklearn.ensemble import RandomForestClassifier\n",
    "from sklearn.model_selection import train_test_split\n",
    "\n",
    "# Example of dcs techniques:\n",
    "from deslib.dcs.a_posteriori import APosteriori\n",
    "from deslib.dcs.lca import LCA\n",
    "from deslib.dcs.ola import OLA\n",
    "from deslib.dcs.a_priori import APriori\n",
    "\n",
    "# Example of des techniques:\n",
    "from deslib.des.meta_des import METADES\n",
    "from deslib.des.des_p import DESP\n",
    "\n",
    "rng = np.random.RandomState(654321)"
   ]
  },
  {
   "cell_type": "markdown",
   "metadata": {},
   "source": [
    "# Generating a imbalanced dataset using the function make_classification from sklearn. In this case, the proportion of classes is"
   ]
  },
  {
   "cell_type": "code",
   "execution_count": null,
   "metadata": {},
   "outputs": [],
   "source": [
    "# Generate a classification dataset\n",
    "X, y = make_classification(n_classes=2, n_samples=1000, weights=[0.2, 0.8], random_state=rng)\n",
    "# split the data into training and test data\n",
    "X_train, X_test, y_train, y_test = train_test_split(X, y, test_size=0.33, random_state=rng)\n",
    "\n",
    "# Split the data into training and DSEL for DS techniques\n",
    "X_train, X_dsel, y_train, y_dsel = train_test_split(X_train, y_train, test_size=0.5, random_state=rng)"
   ]
  },
  {
   "cell_type": "markdown",
   "metadata": {},
   "source": [
    "## Training the classifiers' pool\n",
    "\n",
    "In this example we use a random forest to train a pool composed of decision tree classifier, since empirical results have demonstrated it is a"
   ]
  },
  {
   "cell_type": "code",
   "execution_count": null,
   "metadata": {
    "collapsed": true
   },
   "outputs": [],
   "source": [
    "# Considering a pool composed of 10 base classifiers\n",
    "pool_classifiers = RandomForestClassifier(n_estimators=10, random_state=rng, max_depth=10)\n",
    "pool_classifiers.fit(X_train, y_train)"
   ]
  },
  {
   "cell_type": "markdown",
   "metadata": {},
   "source": [
    "## First we apply the dynamic selection technique without considering the DFP algorithm"
   ]
  },
  {
   "cell_type": "code",
   "execution_count": null,
   "metadata": {
    "collapsed": true
   },
   "outputs": [],
   "source": [
    "# DS techniques without DFP\n",
    "apriori = APriori(pool_classifiers)\n",
    "aposteriori = APosteriori(pool_classifiers)\n",
    "ola = OLA(pool_classifiers)\n",
    "lca = LCA(pool_classifiers)\n",
    "desp = DESP(pool_classifiers)\n",
    "meta = METADES(pool_classifiers)\n",
    "\n",
    "apriori.fit(X_dsel, y_dsel)\n",
    "aposteriori.fit(X_dsel, y_dsel)\n",
    "ola.fit(X_dsel, y_dsel)\n",
    "lca.fit(X_dsel, y_dsel)\n",
    "desp.fit(X_dsel, y_dsel)\n",
    "meta.fit(X_dsel, y_dsel)\n",
    "\n",
    "print('Evaluating DS techniques:')\n",
    "print('Classification accuracy of OLA: ', ola.score(X_test, y_test))\n",
    "print('Classification accuracy of LCA: ', lca.score(X_test, y_test))\n",
    "print('Classification accuracy of A priori: ', apriori.score(X_test, y_test))\n",
    "print('Classification accuracy of A posteriori: ', aposteriori.score(X_test, y_test))\n",
    "print('Classification accuracy of DES-P: ', desp.score(X_test, y_test))\n",
    "print('Classification accuracy of META-DES: ', meta.score(X_test, y_test))"
   ]
  },
  {
   "cell_type": "markdown",
   "metadata": {},
   "source": [
    "## Testing DFP:\n",
    "\n",
    "Using the DFP with DESlib is very easy. We just need to specify in the initialization of the technique that the pruning mechamism should be used DFP=True. Moreover, we can also set the value of k (safe_k) which is used to decide whether or not the test sample is located in a indecision region. If the paremeter safe_k is not specified, the default k value(k = 7) is used."
   ]
  },
  {
   "cell_type": "code",
   "execution_count": null,
   "metadata": {
    "collapsed": true
   },
   "outputs": [],
   "source": [
    "fire_apriori = APriori(pool_classifiers, DFP=True, safe_k=5)\n",
    "fire_aposteriori = APosteriori(pool_classifiers, DFP=True, safe_k=5)\n",
    "fire_ola = OLA(pool_classifiers, DFP=True)\n",
    "fire_lca = LCA(pool_classifiers, DFP=True)\n",
    "fire_desp = DESP(pool_classifiers, DFP=True)\n",
    "fire_meta = METADES(pool_classifiers, DFP=True)\n",
    "\n",
    "fire_apriori.fit(X_dsel, y_dsel)\n",
    "fire_aposteriori.fit(X_dsel, y_dsel)\n",
    "fire_ola .fit(X_dsel, y_dsel)\n",
    "fire_lca.fit(X_dsel, y_dsel)\n",
    "fire_desp.fit(X_dsel, y_dsel)\n",
    "fire_meta.fit(X_dsel, y_dsel)\n",
    "\n",
    "print('Evaluating FIRE-DS techniques:')\n",
    "print('Classification accuracy of FIRE-OLA: ', fire_ola.score(X_test, y_test))\n",
    "print('Classification accuracy of FIRE-LCA: ', fire_lca.score(X_test, y_test))\n",
    "print('Classification accuracy of FIRE-A priori: ', fire_apriori.score(X_test, y_test))\n",
    "print('Classification accuracy of FIRE-A posteriori: ', aposteriori.score(X_test, y_test))\n",
    "print('Classification accuracy of FIRE-DES-P: ', fire_desp.score(X_test, y_test))\n",
    "print('Classification accuracy of FIRE-META-DES: ', fire_meta.score(X_test, y_test))"
   ]
  }
 ],
 "metadata": {
  "kernelspec": {
   "display_name": "Python 3",
   "language": "python",
   "name": "python3"
  },
  "language_info": {
   "codemirror_mode": {
    "name": "ipython",
    "version": 3
   },
   "file_extension": ".py",
   "mimetype": "text/x-python",
   "name": "python",
   "nbconvert_exporter": "python",
   "pygments_lexer": "ipython3",
   "version": "3.6.3"
  }
 },
 "nbformat": 4,
 "nbformat_minor": 2
}
