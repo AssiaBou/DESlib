{
 "cells": [
  {
   "cell_type": "markdown",
   "metadata": {},
   "source": [
    "# Example using Bagging\n",
    "\n",
    "In this example we show how to apply different DCS and DES techniques for a classification dataset.\n",
    "\n",
    "A very important aspect in dynamic selection is the generation of a pool of classifiers. A common practice in the dynamic selection literature is to generate a pool of classifiers using the Bagging (Bootstrap Aggregating) method.\n",
    "\n",
    "In this example we generate a pool of classifiers using the Bagging technique implemented on the Scikit-learn library. Then, we compare the results obtained by combining this pool of classifiers using the standard Bagging combination approach versus the application of dynamic selection technique to select the set of most competent classifiers"
   ]
  },
  {
   "cell_type": "code",
   "execution_count": 1,
   "metadata": {},
   "outputs": [
    {
     "ename": "ModuleNotFoundError",
     "evalue": "No module named 'DCS'",
     "traceback": [
      "\u001b[1;31m---------------------------------------------------------------------------\u001b[0m",
      "\u001b[1;31mModuleNotFoundError\u001b[0m                       Traceback (most recent call last)",
      "\u001b[1;32m<ipython-input-1-e53940c05953>\u001b[0m in \u001b[0;36m<module>\u001b[1;34m()\u001b[0m\n\u001b[0;32m      6\u001b[0m \u001b[1;33m\u001b[0m\u001b[0m\n\u001b[0;32m      7\u001b[0m \u001b[1;31m# Example of DCS techniques\u001b[0m\u001b[1;33m\u001b[0m\u001b[1;33m\u001b[0m\u001b[0m\n\u001b[1;32m----> 8\u001b[1;33m \u001b[1;32mfrom\u001b[0m \u001b[0mDCS\u001b[0m\u001b[1;33m.\u001b[0m\u001b[0mOLA\u001b[0m \u001b[1;32mimport\u001b[0m \u001b[0mOLA\u001b[0m\u001b[1;33m\u001b[0m\u001b[0m\n\u001b[0m\u001b[0;32m      9\u001b[0m \u001b[1;32mfrom\u001b[0m \u001b[0mDCS\u001b[0m\u001b[1;33m.\u001b[0m\u001b[0mAPriori\u001b[0m \u001b[1;32mimport\u001b[0m \u001b[0mAPriori\u001b[0m\u001b[1;33m\u001b[0m\u001b[0m\n\u001b[0;32m     10\u001b[0m \u001b[1;32mfrom\u001b[0m \u001b[0mDCS\u001b[0m\u001b[1;33m.\u001b[0m\u001b[0mMCB\u001b[0m \u001b[1;32mimport\u001b[0m \u001b[0mMCB\u001b[0m\u001b[1;33m\u001b[0m\u001b[0m\n",
      "\u001b[1;31mModuleNotFoundError\u001b[0m: No module named 'DCS'"
     ],
     "output_type": "error"
    }
   ],
   "source": [
    "from sklearn.datasets import load_breast_cancer\n",
    "from sklearn.linear_model import Perceptron\n",
    "from sklearn.calibration import CalibratedClassifierCV\n",
    "from sklearn.ensemble import BaggingClassifier\n",
    "from sklearn.model_selection import train_test_split\n",
    "\n",
    "# Example of DCS techniques\n",
    "from DCS.OLA import OLA\n",
    "from DCS.APriori import APriori\n",
    "from DCS.MCB import MCB\n",
    "# Example of DES techniques\n",
    "from DES.KNORAE import KNORAE\n",
    "from DES.DESP import DESP\n",
    "from DES.KNORAU import KNORAU"
   ]
  },
  {
   "cell_type": "markdown",
   "metadata": {},
   "source": [
    "## Loading a classification dataset and preparing the data"
   ]
  },
  {
   "cell_type": "code",
   "execution_count": null,
   "metadata": {
    "collapsed": true
   },
   "outputs": [],
   "source": [
    "data = load_breast_cancer()\n",
    "X = data.data\n",
    "y = data.target\n",
    "\n",
    "# split the data into training and test data\n",
    "X_train, X_test, y_train, y_test = train_test_split(X, y, test_size=0.33)\n",
    "\n",
    "# Split the data into training and DSEL for DS techniques\n",
    "X_train, X_dsel, y_train, y_dsel = train_test_split(X_train, y_train, test_size=0.5)"
   ]
  },
  {
   "cell_type": "markdown",
   "metadata": {},
   "source": [
    "## Training a pool of classifiers\n",
    "\n",
    "Here we generate a pool of classifiers using the Bagging technique. The Perceptron classifier is used as the base classifier model in this example. It is important to mention that some DS techniques requires that the base classifiers are capable of estimating probabilities. For the Perceptron model, this can be achieved by calibrating the outputs of the base classifiers using the CalibratedClassifierCV class from scikit-learn."
   ]
  },
  {
   "cell_type": "code",
   "execution_count": null,
   "metadata": {
    "collapsed": true
   },
   "outputs": [],
   "source": [
    "# Calibrating Perceptrons to estimate probabilities\n",
    "model = CalibratedClassifierCV(Perceptron(), cv=3, method='sigmoid')\n",
    "pool_classifiers = BaggingClassifier(n_estimators=10)\n",
    "pool_classifiers.fit(X_train2, y_train2)"
   ]
  },
  {
   "cell_type": "markdown",
   "metadata": {},
   "source": [
    "## Initializing DS techniques\n",
    "\n",
    "Here we initialize the DS techniques. Three DCS and three DES techniques are considered in this example. The only parameter that is required by the techniques is the pool of classifiers. All others are optional parameters which can be specified."
   ]
  },
  {
   "cell_type": "code",
   "execution_count": null,
   "metadata": {
    "collapsed": true
   },
   "outputs": [],
   "source": [
    "# DES techniques\n",
    "knorau = KNORAU(pool_classifiers)\n",
    "kne = KNORAE(pool_classifiers)\n",
    "desp = DESP(pool_classifiers)\n",
    "# DCS techniques\n",
    "ola = OLA(pool_classifiers)\n",
    "mcb = MCB(pool_classifiers)\n",
    "apriori = APriori(pool_classifiers)"
   ]
  },
  {
   "cell_type": "markdown",
   "metadata": {},
   "source": [
    "Each DS technique implements the basic routines from the scikit-learning (fit, predict, predict_proba and score). Here, we call the function fit to prepare the DS techniques for the classification of new data. In this case, the function fit pre-process the information required to apply the DS techniques such as the method that is used to estimate the region of competence."
   ]
  },
  {
   "cell_type": "code",
   "execution_count": null,
   "metadata": {
    "collapsed": true
   },
   "outputs": [],
   "source": [
    "knorau.fit(X_dsel, y_dsel)\n",
    "kne.fit(X_dsel, y_dsel)\n",
    "desp.fit(X_dsel, y_dsel)\n",
    "ola.fit(X_dsel, y_dsel)\n",
    "mcb.fit(X_dsel, y_dsel)\n",
    "apriori.fit(X_dsel, y_dsel)"
   ]
  },
  {
   "cell_type": "markdown",
   "metadata": {},
   "source": [
    "## Calculate classification accuracy of each technique\n",
    "\n",
    "Each DS technique implements the function score from scikit-learn in order to estimate the classification accuracy."
   ]
  },
  {
   "cell_type": "code",
   "execution_count": null,
   "metadata": {
    "collapsed": true
   },
   "outputs": [],
   "source": [
    "print('Classification accuracy of Bagging: ', pool_classifiers.score(X_test, y_test))\n",
    "print('Classification accuracy of KNORA-Union: ', knorau.score(X_test, y_test))\n",
    "print('Classification accuracy of KNORA-Eliminate: ', kne.score(X_test, y_test))\n",
    "print('Classification accuracy of DESP: ', desp.score(X_test, y_test))\n",
    "print('Classification accuracy of OLA: ', ola.score(X_test, y_test))\n",
    "print('Classification accuracy of A priori: ', apriori.score(X_test, y_test))"
   ]
  }
 ],
 "metadata": {
  "kernelspec": {
   "display_name": "Python 3",
   "language": "python",
   "name": "python3"
  },
  "language_info": {
   "codemirror_mode": {
    "name": "ipython",
    "version": 3
   },
   "file_extension": ".py",
   "mimetype": "text/x-python",
   "name": "python",
   "nbconvert_exporter": "python",
   "pygments_lexer": "ipython3",
   "version": "3.6.3"
  }
 },
 "nbformat": 4,
 "nbformat_minor": 1
}
